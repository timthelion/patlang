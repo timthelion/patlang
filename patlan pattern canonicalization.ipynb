{
 "cells": [
  {
   "cell_type": "code",
   "execution_count": 23,
   "id": "dffd0116",
   "metadata": {},
   "outputs": [
    {
     "name": "stdout",
     "output_type": "stream",
     "text": [
      "a b c:l<d,e,f> g o\n",
      "d, e, c:l<d,e,f> g o\n"
     ]
    }
   ],
   "source": [
    "import re\n",
    "\n",
    "def remove_whitespace_inside_angle_brackets(s):\n",
    "    def repl(match):\n",
    "        return '<' + ''.join(match.group(1).split()) + '>'\n",
    "    \n",
    "    return re.sub(r'<(.*?)>', repl, s)\n",
    "\n",
    "# Test\n",
    "s = \"a b c:l<d, e, f> g o\"\n",
    "print(remove_whitespace_inside_angle_brackets(s))  # Expected: \"a b c:l<d,e,f> g o\"\n",
    "s = \"d, e, c:l<d, e, f> g o\"\n",
    "print(remove_whitespace_inside_angle_brackets(s))  # Expected: \"a b c:l<d,e,f> g o\""
   ]
  },
  {
   "cell_type": "code",
   "execution_count": 34,
   "id": "ef36f7d2",
   "metadata": {},
   "outputs": [
    {
     "data": {
      "text/plain": [
       "{'rectangle': 'width:float mm x height:float mm',\n",
       " 'box': 'base:rectangle x depth:float mm',\n",
       " 'krabice': 'width:float mm x height:float mm x depth:float mm',\n",
       " 'choice': 'C weight:int || B foo:int || A bar:int',\n",
       " 'int_list': 'item:int rest_of_list:int_list || end of list',\n",
       " 'list': '<a> item:a rest_of_list:list<a> || end of list',\n",
       " 'double_recursion_a': 'drb:double_recursion_b dra:double_recursion_a',\n",
       " 'double_recursion_b': 'dra:double_recursion_a'}"
      ]
     },
     "execution_count": 34,
     "metadata": {},
     "output_type": "execute_result"
    }
   ],
   "source": [
    "def save_current_pattern(patterns, current_name, current_pattern):\n",
    "    if current_name and current_pattern:\n",
    "        patterns[current_name] = ' '.join(current_pattern)\n",
    "\n",
    "def parse_declarations(pattern_declarations):\n",
    "    patterns = {}\n",
    "    lines = pattern_declarations.strip().split('\\n')\n",
    "    current_name = None\n",
    "    current_pattern = []\n",
    "\n",
    "    for line in lines:\n",
    "        stripped_line = line.strip()\n",
    "        \n",
    "        # Check if line defines a new pattern\n",
    "        if ' ' in stripped_line and stripped_line.split(' ', 1)[0] == \"pat\":\n",
    "            save_current_pattern(patterns, current_name, current_pattern)\n",
    "            current_pattern = []\n",
    "\n",
    "            _, current_name, pattern = stripped_line.split(' ', 2)\n",
    "\n",
    "            if \"<\" in current_name:\n",
    "                current_name, type_params = current_name.split(\"<\", 1)\n",
    "                type_params = remove_whitespace_inside_angle_brackets(\"<\" + type_params)\n",
    "                current_pattern.append(type_params)\n",
    "\n",
    "            current_pattern.append(pattern)\n",
    "        else:\n",
    "            current_pattern.append(stripped_line)\n",
    "\n",
    "    save_current_pattern(patterns, current_name, current_pattern)\n",
    "    return patterns\n",
    "\n",
    "\n",
    "pattern_declarations = \"\"\"\n",
    "pat rectangle width:float mm x height:float mm\n",
    "pat box base:rectangle x depth:float mm\n",
    "pat krabice width:float mm x\n",
    "                  height:float mm x\n",
    "                  depth:float mm\n",
    "pat choice C weight:int || B foo:int || A bar:int\n",
    "pat int_list item:int rest_of_list:int_list || end of list\n",
    "pat list<a> item:a rest_of_list:list<a> || end of list\n",
    "pat double_recursion_a drb:double_recursion_b dra:double_recursion_a\n",
    "pat double_recursion_b dra:double_recursion_a\n",
    "\"\"\"\n",
    "\n",
    "patterns = parse_declarations(pattern_declarations)\n",
    "patterns\n",
    "\n"
   ]
  },
  {
   "cell_type": "code",
   "execution_count": 40,
   "id": "9367d4fb",
   "metadata": {},
   "outputs": [
    {
     "name": "stdout",
     "output_type": "stream",
     "text": [
      "{'rectangle': 'width:float mm x height:float mm', 'box': 'base:rectangle x depth:float mm', 'krabice': 'width:float mm x height:float mm x depth:float mm', 'choice': 'C weight:int || B foo:int || A bar:int', 'int_list': 'item:int rest_of_list:int_list || end of list', 'list': '<a> item:a rest_of_list:list<a> || end of list', 'double_recursion_a': 'drb:double_recursion_b dra:double_recursion_a', 'double_recursion_b': 'dra:double_recursion_a'}\n"
     ]
    },
    {
     "data": {
      "text/plain": [
       "{'rectangle': 'width:float mm x height:float mm',\n",
       " 'box': 'base:rectangle x depth:float mm',\n",
       " 'krabice': 'width:float mm x height:float mm x depth:float mm',\n",
       " 'choice': 'C weight:int || B foo:int || A bar:int',\n",
       " 'int_list': 'int_list\\n @ int_list item:int rest_of_list:int_list || end of list',\n",
       " 'list': '<a> item:a rest_of_list:list<a> || end of list',\n",
       " 'double_recursion_a': 'double_recursion_a\\n @ double_recursion_a drb:double_recursion_b dra:double_recursion_a',\n",
       " 'double_recursion_b': 'double_recursion_b\\n @ double_recursion_b dra:double_recursion_a\\n @ double_recursion_a drb:double_recursion_b dra:double_recursion_a'}"
      ]
     },
     "execution_count": 40,
     "metadata": {},
     "output_type": "execute_result"
    }
   ],
   "source": [
    "def resolve_type(htype, patterns, recursed_types):\n",
    "    if htype in patterns:\n",
    "        if htype not in recursed_types:\n",
    "            return resolve_pattern(htype, patterns[htype], patterns, recursed_types + [htype])\n",
    "        else:\n",
    "            return [f\"{htype}:{htype}\"], [htype]\n",
    "    return [f\"name:{htype}\"], []\n",
    "\n",
    "def resolve_pattern(pattern_name, pattern, patterns, recursed_types=None):\n",
    "    if recursed_types is None:\n",
    "        recursed_types = [pattern_name]\n",
    "        \n",
    "    words = pattern.split()\n",
    "    resolved_words = []\n",
    "    recursed_patterns = []\n",
    "    \n",
    "    for word in words:\n",
    "        if \":\" in word:\n",
    "            hname, htype = word.split(\":\")\n",
    "            resolved_word, recursed_pattern = resolve_type(htype, patterns, recursed_types)\n",
    "            resolved_words.append(word)\n",
    "            recursed_patterns.extend(recursed_pattern)\n",
    "        else:\n",
    "            resolved_words.append(word)\n",
    "\n",
    "    return resolved_words, recursed_patterns\n",
    "\n",
    "def resolve_all_patterns(patterns):\n",
    "    resolved_patterns_without_recursions = {}\n",
    "    recursions = {}\n",
    "    for name, pattern in patterns.items():\n",
    "        resolved_pattern, recursed_patterns = resolve_pattern(name, pattern, patterns)\n",
    "        resolved_patterns_without_recursions[name] = \" \".join(resolved_pattern)\n",
    "        if recursed_patterns:\n",
    "            recursions[name] = sorted(recursed_patterns)\n",
    "            \n",
    "    print(resolved_patterns_without_recursions)\n",
    "    resolved_patterns = dict(resolved_patterns_without_recursions)\n",
    "    for name, recursion_list in recursions.items():\n",
    "        if name in recursion_list:\n",
    "            resolved_patterns[name] = f\"{name}\\n @ {name} {resolved_patterns_without_recursions[name]}\"\n",
    "        for recursion in recursion_list:\n",
    "            if recursion != name:\n",
    "                resolved_patterns[name] += f\"\\n @ {recursion} {resolved_patterns_without_recursions[recursion]}\"\n",
    "\n",
    "    return resolved_patterns\n",
    "\n",
    "resolved_patterns = resolve_all_patterns(patterns)\n",
    "resolved_patterns\n",
    "\n"
   ]
  }
 ],
 "metadata": {
  "kernelspec": {
   "display_name": "Python 3 (ipykernel)",
   "language": "python",
   "name": "python3"
  },
  "language_info": {
   "codemirror_mode": {
    "name": "ipython",
    "version": 3
   },
   "file_extension": ".py",
   "mimetype": "text/x-python",
   "name": "python",
   "nbconvert_exporter": "python",
   "pygments_lexer": "ipython3",
   "version": "3.7.3"
  }
 },
 "nbformat": 4,
 "nbformat_minor": 5
}
